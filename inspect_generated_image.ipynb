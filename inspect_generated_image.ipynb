{
 "cells": [
  {
   "cell_type": "code",
   "id": "initial_id",
   "metadata": {
    "collapsed": true,
    "ExecuteTime": {
     "end_time": "2024-11-05T17:49:07.156640Z",
     "start_time": "2024-11-05T17:49:07.152014Z"
    }
   },
   "source": [
    "from pathlib import Path\n",
    "\n",
    "image_filepath = Path(\n",
    "    \"/home/bzdeco/Documents/Work/Code/rain-rendering/data/output/daedalean/20221004_Fuchs_MD520_record-20221004-155049/rain/10mm/rainy_image/1664900330239862328.png\"\n",
    ")"
   ],
   "outputs": [],
   "execution_count": 2
  },
  {
   "metadata": {
    "ExecuteTime": {
     "end_time": "2024-11-05T17:49:17.889206Z",
     "start_time": "2024-11-05T17:49:17.657462Z"
    }
   },
   "cell_type": "code",
   "source": [
    "from PIL import Image\n",
    "import numpy as np\n",
    "\n",
    "image = np.asarray(Image.open(image_filepath))"
   ],
   "id": "5940fa320596913",
   "outputs": [],
   "execution_count": 4
  },
  {
   "metadata": {
    "ExecuteTime": {
     "end_time": "2024-11-05T17:50:34.697108Z",
     "start_time": "2024-11-05T17:50:34.694475Z"
    }
   },
   "cell_type": "code",
   "source": "rgb_image = image[:, :, :3]",
   "id": "ccef46818ddc507c",
   "outputs": [],
   "execution_count": 10
  },
  {
   "metadata": {},
   "cell_type": "code",
   "outputs": [],
   "execution_count": null,
   "source": "",
   "id": "dcd5b52f89b0bd33"
  }
 ],
 "metadata": {
  "kernelspec": {
   "display_name": "Python 3",
   "language": "python",
   "name": "python3"
  },
  "language_info": {
   "codemirror_mode": {
    "name": "ipython",
    "version": 2
   },
   "file_extension": ".py",
   "mimetype": "text/x-python",
   "name": "python",
   "nbconvert_exporter": "python",
   "pygments_lexer": "ipython2",
   "version": "2.7.6"
  }
 },
 "nbformat": 4,
 "nbformat_minor": 5
}
